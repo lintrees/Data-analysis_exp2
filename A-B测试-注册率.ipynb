{
 "cells": [
  {
   "cell_type": "code",
   "execution_count": 1,
   "metadata": {},
   "outputs": [],
   "source": [
    "import numpy as np\n",
    "import pandas as pd\n",
    "import matplotlib.pyplot as plt\n",
    "%matplotlib inline \n",
    "np.random.seed(42)"
   ]
  },
  {
   "cell_type": "code",
   "execution_count": 3,
   "metadata": {},
   "outputs": [
    {
     "data": {
      "text/html": [
       "<div>\n",
       "<style scoped>\n",
       "    .dataframe tbody tr th:only-of-type {\n",
       "        vertical-align: middle;\n",
       "    }\n",
       "\n",
       "    .dataframe tbody tr th {\n",
       "        vertical-align: top;\n",
       "    }\n",
       "\n",
       "    .dataframe thead th {\n",
       "        text-align: right;\n",
       "    }\n",
       "</style>\n",
       "<table border=\"1\" class=\"dataframe\">\n",
       "  <thead>\n",
       "    <tr style=\"text-align: right;\">\n",
       "      <th></th>\n",
       "      <th>timestamp</th>\n",
       "      <th>id</th>\n",
       "      <th>group</th>\n",
       "      <th>action</th>\n",
       "      <th>duration</th>\n",
       "    </tr>\n",
       "  </thead>\n",
       "  <tbody>\n",
       "    <tr>\n",
       "      <th>0</th>\n",
       "      <td>2016-09-24 17:14:52.012145</td>\n",
       "      <td>261869</td>\n",
       "      <td>experiment</td>\n",
       "      <td>view</td>\n",
       "      <td>130.545004</td>\n",
       "    </tr>\n",
       "    <tr>\n",
       "      <th>1</th>\n",
       "      <td>2016-09-24 18:45:09.645857</td>\n",
       "      <td>226546</td>\n",
       "      <td>experiment</td>\n",
       "      <td>view</td>\n",
       "      <td>159.862440</td>\n",
       "    </tr>\n",
       "    <tr>\n",
       "      <th>2</th>\n",
       "      <td>2016-09-24 19:16:21.002533</td>\n",
       "      <td>286353</td>\n",
       "      <td>experiment</td>\n",
       "      <td>view</td>\n",
       "      <td>79.349315</td>\n",
       "    </tr>\n",
       "    <tr>\n",
       "      <th>3</th>\n",
       "      <td>2016-09-24 19:43:06.927785</td>\n",
       "      <td>842279</td>\n",
       "      <td>experiment</td>\n",
       "      <td>view</td>\n",
       "      <td>55.536126</td>\n",
       "    </tr>\n",
       "    <tr>\n",
       "      <th>4</th>\n",
       "      <td>2016-09-24 21:08:22.790333</td>\n",
       "      <td>781883</td>\n",
       "      <td>experiment</td>\n",
       "      <td>view</td>\n",
       "      <td>204.322437</td>\n",
       "    </tr>\n",
       "  </tbody>\n",
       "</table>\n",
       "</div>"
      ],
      "text/plain": [
       "                    timestamp      id       group action    duration\n",
       "0  2016-09-24 17:14:52.012145  261869  experiment   view  130.545004\n",
       "1  2016-09-24 18:45:09.645857  226546  experiment   view  159.862440\n",
       "2  2016-09-24 19:16:21.002533  286353  experiment   view   79.349315\n",
       "3  2016-09-24 19:43:06.927785  842279  experiment   view   55.536126\n",
       "4  2016-09-24 21:08:22.790333  781883  experiment   view  204.322437"
      ]
     },
     "execution_count": 3,
     "metadata": {},
     "output_type": "execute_result"
    }
   ],
   "source": [
    "df=pd.read_csv('course_page_actions.csv')\n",
    "df.head()"
    "df=df.drop_duplicates(['id'])\n",
    "df.head()"
   ]
  },
  {
   "cell_type": "code",
   "execution_count": 41,
   "metadata": {},
   "outputs": [
    {
     "data": {
      "text/plain": [
       "0.2645985401459854"
      ]
     },
     "execution_count": 41,
     "metadata": {},
     "output_type": "execute_result"
    }
   ],
   "source": [
    "experiment_df=df.query('group==\"experiment\"')\n",
    "experiment_ctr=experiment_df.query('action==\"enroll\"').action.count()/experiment_df.query('action==\"view\"').action.count()\n",
    "experiment_ctr"
   ]
  },
  {
   "cell_type": "code",
   "execution_count": 42,
   "metadata": {},
   "outputs": [
    {
     "data": {
      "text/plain": [
       "0.23432552248258393"
      ]
     },
     "execution_count": 42,
     "metadata": {},
     "output_type": "execute_result"
    }
   ],
   "source": [
    "control_df=df.query('group==\"control\"')\n",
    "control_ctr=control_df.query('action==\"enroll\"').action.count()/control_df.query('action==\"view\"').action.count()\n",
    "control_ctr"
   ]
  },
  {
   "cell_type": "code",
   "execution_count": 43,
   "metadata": {},
   "outputs": [
    {
     "data": {
      "text/plain": [
       "0.030273017663401458"
      ]
     },
     "execution_count": 43,
     "metadata": {},
     "output_type": "execute_result"
    }
   ],
   "source": [
    "obs_diff=experiment_ctr-control_ctr\n",
    "obs_diff"
   ]
  },
  {
   "cell_type": "code",
   "execution_count": 44,
   "metadata": {},
   "outputs": [
    {
     "data": {
      "text/plain": [
       "(array([2.000e+01, 1.870e+02, 8.940e+02, 2.335e+03, 3.229e+03, 2.277e+03,\n",
       "        8.610e+02, 1.830e+02, 1.200e+01, 2.000e+00]),\n",
       " array([-0.04249264, -0.02636191, -0.01023118,  0.00589954,  0.02203027,\n",
       "         0.038161  ,  0.05429173,  0.07042246,  0.08655318,  0.10268391,\n",
       "         0.11881464]),\n",
       " <a list of 10 Patch objects>)"
      ]
     },
     "execution_count": 44,
     "metadata": {},
     "output_type": "execute_result"
    },
    {
     "data": {
      "image/png": "iVBORw0KGgoAAAANSUhEUgAAAYAAAAD8CAYAAAB+UHOxAAAABHNCSVQICAgIfAhkiAAAAAlwSFlzAAALEgAACxIB0t1+/AAAADl0RVh0U29mdHdhcmUAbWF0cGxvdGxpYiB2ZXJzaW9uIDIuMS4yLCBodHRwOi8vbWF0cGxvdGxpYi5vcmcvNQv5yAAAE3VJREFUeJzt3X+s3fV93/HnKyaQJumKKRdGbDLT1pUKU+JkLmHKNNHQ8lMrdE00qNZYGZMrDaRma7eaphL5USSSNc0ULWWiw4tTtSE0aRSrWGUOS9Z2WgImIQZDqW/ACze2sBNT0hSVFvLeH+dj5WCu7z333nPvufjzfEhH53ve38/3+32fe6/P63x/nONUFZKk/rxi0g1IkibDAJCkThkAktQpA0CSOmUASFKnDABJ6pQBIEmdMgAkqVMGgCR16pRJNzCXM888szZs2DDpNiTpZeWBBx74VlVNzTduVQfAhg0b2LNnz6TbkKSXlST/b5RxHgKSpE4ZAJLUKQNAkjplAEhSpwwASeqUASBJnTIAJKlTBoAkdcoAkKROrepPAkvz2bDt7olt+8CtV01s29I4uAcgSZ0yACSpUwaAJHXKAJCkThkAktQpA0CSOmUASFKnDABJ6pQBIEmdMgAkqVPzBkCSVyW5L8nXkuxL8r5WPy/Jl5PsT/KpJKe2+mnt8XSbv2FoXTe1+mNJLluuJyVJmt8oewDPAW+rqjcCm4DLk1wEfBD4SFVtBJ4Grm/jrweerqofAz7SxpHkfOBa4ALgcuB3kqwZ55ORJI1u3gCoge+2h69stwLeBny61XcA17Tpq9tj2vxLkqTV76yq56rqCWAauHAsz0KStGAjnQNIsibJg8BhYDfwdeCvqur5NmQGWNem1wFPArT5zwA/PFyfZZnhbW1NsifJniNHjiz8GUmSRjJSAFTVC1W1CVjP4F37T8w2rN3nBPNOVD9+W7dX1eaq2jw1NTVKe5KkRVjQVUBV9VfAF4GLgNOTHPv/BNYDB9v0DHAuQJv/Q8DR4fosy0iSVtgoVwFNJTm9Tf8A8NPAo8AXgLe3YVuAz7Xpne0xbf7/qqpq9WvbVULnARuB+8b1RCRJCzPK/wh2DrCjXbHzCuCuqvrjJI8Adyb5TeCrwB1t/B3A7yWZZvDO/1qAqtqX5C7gEeB54IaqemG8T0eSNKp5A6Cq9gJvmqX+OLNcxVNVfwu84wTrugW4ZeFtSpLGzU8CS1KnDABJ6pQBIEmdMgAkqVMGgCR1ygCQpE4ZAJLUKQNAkjplAEhSpwwASeqUASBJnTIAJKlTBoAkdcoAkKROGQCS1CkDQJI6ZQBIUqcMAEnqlAEgSZ0yACSpUwaAJHXKAJCkThkAktSpeQMgyblJvpDk0ST7kvxyq783yTeTPNhuVw4tc1OS6SSPJblsqH55q00n2bY8T0mSNIpTRhjzPPArVfWVJD8IPJBkd5v3kar6reHBSc4HrgUuAF4HfD7Jj7fZHwN+BpgB7k+ys6oeGccTkSQtzLwBUFWHgENt+q+TPAqsm2ORq4E7q+o54Ikk08CFbd50VT0OkOTONtYAkKQJWNA5gCQbgDcBX26lG5PsTbI9ydpWWwc8ObTYTKudqH78NrYm2ZNkz5EjRxbSniRpAUYOgCSvBT4DvLuqvgPcBvwosInBHsKHjw2dZfGao/7iQtXtVbW5qjZPTU2N2p4kaYFGOQdAklcyePH//ar6I4Cqempo/u8Cf9wezgDnDi2+HjjYpk9UlyStsFGuAgpwB/BoVf32UP2coWE/BzzcpncC1yY5Lcl5wEbgPuB+YGOS85KcyuBE8c7xPA1J0kKNsgfwVuAXgYeSPNhqvw5cl2QTg8M4B4BfAqiqfUnuYnBy93nghqp6ASDJjcA9wBpge1XtG+NzkSQtwChXAf05sx+/3zXHMrcAt8xS3zXXcpKkleMngSWpUwaAJHXKAJCkThkAktQpA0CSOjXSB8Gk+WzYdvekW5C0QO4BSFKnDABJ6pQBIEmd8hyAtEiTOu9x4NarJrJdnXzcA5CkThkAktQpA0CSOmUASFKnDABJ6pQBIEmdMgAkqVMGgCR1ygCQpE4ZAJLUKQNAkjplAEhSpwwASerUvAGQ5NwkX0jyaJJ9SX651c9IsjvJ/na/ttWT5KNJppPsTfLmoXVtaeP3J9myfE9LkjSfUfYAngd+pap+ArgIuCHJ+cA24N6q2gjc2x4DXAFsbLetwG0wCAzgZuAtwIXAzcdCQ5K08uYNgKo6VFVfadN/DTwKrAOuBna0YTuAa9r01cAnauBLwOlJzgEuA3ZX1dGqehrYDVw+1mcjSRrZgs4BJNkAvAn4MnB2VR2CQUgAZ7Vh64AnhxababUT1SVJEzByACR5LfAZ4N1V9Z25hs5Sqznqx29na5I9SfYcOXJk1PYkSQs0UgAkeSWDF//fr6o/auWn2qEd2v3hVp8Bzh1afD1wcI76i1TV7VW1uao2T01NLeS5SJIWYJSrgALcATxaVb89NGsncOxKni3A54bq72xXA10EPNMOEd0DXJpkbTv5e2mrSZImYJT/FP6twC8CDyV5sNV+HbgVuCvJ9cA3gHe0ebuAK4Fp4FngXQBVdTTJB4D727j3V9XRsTwLSdKCzRsAVfXnzH78HuCSWcYXcMMJ1rUd2L6QBiVJy8NPAktSpwwASeqUASBJnTIAJKlTBoAkdcoAkKROGQCS1CkDQJI6ZQBIUqcMAEnqlAEgSZ0yACSpUwaAJHXKAJCkThkAktQpA0CSOmUASFKnDABJ6pQBIEmdMgAkqVMGgCR1ygCQpE4ZAJLUqXkDIMn2JIeTPDxUe2+SbyZ5sN2uHJp3U5LpJI8luWyofnmrTSfZNv6nIklaiFH2AD4OXD5L/SNVtanddgEkOR+4FrigLfM7SdYkWQN8DLgCOB+4ro2VJE3IKfMNqKo/TbJhxPVdDdxZVc8BTySZBi5s86ar6nGAJHe2sY8suGNJ0lgs5RzAjUn2tkNEa1ttHfDk0JiZVjtRXZI0IYsNgNuAHwU2AYeAD7d6Zhlbc9RfIsnWJHuS7Dly5Mgi25MkzWdRAVBVT1XVC1X1PeB3+f5hnhng3KGh64GDc9RnW/ftVbW5qjZPTU0tpj1J0ggWFQBJzhl6+HPAsSuEdgLXJjktyXnARuA+4H5gY5LzkpzK4ETxzsW3LUlaqnlPAif5JHAxcGaSGeBm4OIkmxgcxjkA/BJAVe1LcheDk7vPAzdU1QttPTcC9wBrgO1VtW/sz0aSNLJRrgK6bpbyHXOMvwW4ZZb6LmDXgrqTJC0bPwksSZ0yACSpUwaAJHXKAJCkThkAktQpA0CSOmUASFKnDABJ6pQBIEmdMgAkqVMGgCR1ygCQpE4ZAJLUKQNAkjplAEhSpwwASeqUASBJnTIAJKlTBoAkdcoAkKROGQCS1CkDQJI6ZQBIUqfmDYAk25McTvLwUO2MJLuT7G/3a1s9ST6aZDrJ3iRvHlpmSxu/P8mW5Xk6kqRRjbIH8HHg8uNq24B7q2ojcG97DHAFsLHdtgK3wSAwgJuBtwAXAjcfCw1J0mTMGwBV9afA0ePKVwM72vQO4Jqh+idq4EvA6UnOAS4DdlfV0ap6GtjNS0NFkrSCFnsO4OyqOgTQ7s9q9XXAk0PjZlrtRHVJ0oSM+yRwZqnVHPWXriDZmmRPkj1HjhwZa3OSpO9bbAA81Q7t0O4Pt/oMcO7QuPXAwTnqL1FVt1fV5qraPDU1tcj2JEnzWWwA7ASOXcmzBfjcUP2d7Wqgi4Bn2iGie4BLk6xtJ38vbTVJ0oScMt+AJJ8ELgbOTDLD4GqeW4G7klwPfAN4Rxu+C7gSmAaeBd4FUFVHk3wAuL+Ne39VHX9iWZK0guYNgKq67gSzLpllbAE3nGA924HtC+pOkrRs/CSwJHVq3j0Avbxs2Hb3pFuQ9DLhHoAkdcoAkKROeQhIepmZ5GG+A7deNbFta/zcA5CkThkAktQpA0CSOmUASFKnDABJ6pQBIEmdMgAkqVMGgCR1ygCQpE4ZAJLUKQNAkjplAEhSpwwASeqUASBJnTIAJKlTBoAkdcoAkKROGQCS1KklBUCSA0keSvJgkj2tdkaS3Un2t/u1rZ4kH00ynWRvkjeP4wlIkhZnHHsAP1VVm6pqc3u8Dbi3qjYC97bHAFcAG9ttK3DbGLYtSVqk5TgEdDWwo03vAK4Zqn+iBr4EnJ7knGXYviRpBEsNgAL+Z5IHkmxttbOr6hBAuz+r1dcBTw4tO9NqkqQJOGWJy7+1qg4mOQvYneQv5hibWWr1kkGDINkK8PrXv36J7UmSTmRJewBVdbDdHwY+C1wIPHXs0E67P9yGzwDnDi2+Hjg4yzpvr6rNVbV5ampqKe1Jkuaw6ABI8pokP3hsGrgUeBjYCWxpw7YAn2vTO4F3tquBLgKeOXaoSJK08pZyCOhs4LNJjq3nD6rqT5LcD9yV5HrgG8A72vhdwJXANPAs8K4lbFuStESLDoCqehx44yz1bwOXzFIv4IbFbk+SNF5+EliSOmUASFKnDABJ6pQBIEmdMgAkqVMGgCR1ygCQpE4ZAJLUKQNAkjplAEhSpwwASeqUASBJnTIAJKlTBoAkdcoAkKROLfX/BNYsNmy7e9ItSMtiUn/bB269aiLbPdm5ByBJnTIAJKlTBoAkdcoAkKROGQCS1CkDQJI6ZQBIUqdWPACSXJ7ksSTTSbat9PYlSQMrGgBJ1gAfA64AzgeuS3L+SvYgSRpY6T2AC4Hpqnq8qv4OuBO4eoV7kCSx8l8FsQ54cujxDPCW5dqYX8kgnRwm+W/5ZP4aipUOgMxSqxcNSLYCW9vD7yZ5bIzbPxP41hjXNy72tTCrsa/V2BPY10K9pK98cEKdfN9iflb/aJRBKx0AM8C5Q4/XAweHB1TV7cDty7HxJHuqavNyrHsp7GthVmNfq7EnsK+FWo19LWdPK30O4H5gY5LzkpwKXAvsXOEeJEms8B5AVT2f5EbgHmANsL2q9q1kD5KkgRX//wCqahewa6W32yzLoaUxsK+FWY19rcaewL4WajX2tWw9parmHyVJOun4VRCS1KmTLgCSnJFkd5L97X7tCcZtaWP2J9kyy/ydSR5eDX0leXWSu5P8RZJ9SW5dYi9zfh1HktOSfKrN/3KSDUPzbmr1x5JctpQ+xtVXkp9J8kCSh9r921ZDX0PzX5/ku0l+dbX0leQNSf5v+3t6KMmrJtlTklcm2dF6eTTJTePoZwF9/fMkX0nyfJK3HzdvzteKSfSVZNPQ729vkn+1qAaq6qS6AR8CtrXpbcAHZxlzBvB4u1/bptcOzf+XwB8AD6+GvoBXAz/VxpwK/BlwxSL7WAN8HfiRtq6vAecfN+bfAf+tTV8LfKpNn9/Gnwac19azZkw/n6X09SbgdW36HwPfHOPvbdF9Dc3/DPCHwK+uhr4YnPvbC7yxPf7hcfwel9jTLwB3tulXAweADSv4s9oAvAH4BPD2ofqcrxUT7OvHgY1t+nXAIeD0hfZw0u0BMPhqiR1tegdwzSxjLgN2V9XRqnoa2A1cDpDktcB/AH5ztfRVVc9W1RcAavAVGl9h8BmKxRjl6ziGe/00cEmStPqdVfVcVT0BTLf1jcOi+6qqr1bVsc+T7ANeleS0SfcFkOQaBi8a477abSl9XQrsraqvAVTVt6vqhQn3VMBrkpwC/ADwd8B3xtDTSH1V1YGq2gt877hlT/haMcm+quovq2p/mz4IHAamFtrAyRgAZ1fVIYB2f9YsY2b7Sop1bfoDwIeBZ1dZXwAkOR34F8C9i+xj3m0Mj6mq54FnGLxLHGXZxVpKX8N+HvhqVT036b6SvAb4NeB9Y+plLH0xePdYSe5phxf+0yro6dPA3zB4J/sN4Leq6ugK9rUcy67IupNcyGAP4usLXXbFLwMdhySfB/7hLLPeM+oqZqlVkk3Aj1XVvz/+OO4k+xpa/ynAJ4GPVtXjC+1vlG3MM2aUZRdrKX0NZiYXAB9k8A53XJbS1/uAj1TVd9sOwTgtpa9TgH8G/CSDNzr3Jnmgqhb7pmIcPV0IvMDgcMZa4M+SfH4Jf+cL7Ws5ll32dSc5B/g9YEtVHb/3Mq+XZQBU1U+faF6Sp5KcU1WH2g/n8CzDZoCLhx6vB74I/FPgnyQ5wOBnc1aSL1bVxYxgGfs65nZgf1X9l1H6OYF5v45jaMxMC50fAo6OuOwk+iLJeuCzwDurasHvhJapr7cAb0/yIeB04HtJ/raq/uuE+5oB/ndVfQsgyS7gzSx+r3IcPf0C8CdV9ffA4ST/B9jM4PDZUi3l73a+f5NLsaR/T0n+AXA38BtV9aVFdTCOkxmr6Qb8Z158svVDs4w5A3iCwTuNtW36jOPGbGC8J4GX1BeDcxKfAV6xxD5OYfCP6jy+f+LpguPG3MCLT9Td1aYv4MUngR9nfCeBl9LX6W38zy/D39Oi+zpuzHsZ70ngpfy81jI4j/Tqtp7PA1dNuKdfA/4Hg3fFrwEeAd6wUj+robEf56Unged8rZhQX6cyCOx3L6mHcf1BrpYbg+OJ9wL72/2xF9DNwH8fGvdvGJzEnAbeNct6NjDeAFh0XwzeGRTwKPBgu/3bJfRyJfCXDI4ZvqfV3g/8bJt+FYOrVqaB+4AfGVr2PW25x1jklUjj7gv4DQbHjx8cup016b6OW8d7GWMAjOH3+K8ZnJh+mFnejEzgd/jaVt/H4MX/P67wz+onGbwj/xvg28C+oWXnfK2YRF/t9/f3x/3Nb1ro9v0ksCR16mS8CkiSNAIDQJI6ZQBIUqcMAEnqlAEgSZ0yACSpUwaAJHXKAJCkTv1/fWsrP8zyJNsAAAAASUVORK5CYII=\n",
      "text/plain": [
       "<matplotlib.figure.Figure at 0x25426961ef0>"
      ]
     },
     "metadata": {},
     "output_type": "display_data"
    }
   ],
   "source": [
    "diffs=[]\n",
    "for i in range(10000):\n",
    "    sample=df.sample(df.shape[0],replace=True)\n",
    "    experiment_df=sample.query('group==\"experiment\"')\n",
    "    experiment_ctr=experiment_df.query('action==\"enroll\"').action.count()/experiment_df.query('action==\"view\"').action.count()\n",
    "    control_df=sample.query('group==\"control\"')\n",
    "    control_ctr=control_df.query('action==\"enroll\"').action.count()/control_df.query('action==\"view\"').action.count()\n",
    "    diffs.append(experiment_ctr-control_ctr)\n",
    "plt.hist(diffs)"
   ]
  },
  {
   "cell_type": "code",
   "execution_count": 45,
   "metadata": {},
   "outputs": [
    {
     "data": {
      "text/plain": [
       "<matplotlib.lines.Line2D at 0x2542691e518>"
      ]
     },
     "execution_count": 45,
     "metadata": {},
     "output_type": "execute_result"
    },
    {
     "data": {
      "image/png": "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\n",
      "text/plain": [
       "<matplotlib.figure.Figure at 0x25426976278>"
      ]
     },
     "metadata": {},
     "output_type": "display_data"
    }
   ],
   "source": [
    "diffs=np.array(diffs)\n",
    "std=diffs.std()\n",
    "null_vals=np.random.normal(0,std,df.shape[0])#模拟零假设\n",
    "plt.hist(null_vals)\n",
    "plt.axvline(x=obs_diff,color='red')"
   ]
  },
  {
   "cell_type": "code",
   "execution_count": 46,
   "metadata": {},
   "outputs": [],
   "source": [
    "p=(null_vals>obs_diff).mean()"
   ]
  },
  {
   "cell_type": "code",
   "execution_count": 47,
   "metadata": {},
   "outputs": [
    {
     "data": {
      "text/plain": [
       "0.06082423038728898"
      ]
     },
     "execution_count": 47,
     "metadata": {},
     "output_type": "execute_result"
    }
   ],
   "source": [
    "p"
   ]
  },
  {
   "cell_type": "code",
   "execution_count": null,
   "metadata": {},
   "outputs": [],
   "source": []
  }
 ],
 "metadata": {
  "kernelspec": {
   "display_name": "Python 3",
   "language": "python",
   "name": "python3"
  },
  "language_info": {
   "codemirror_mode": {
    "name": "ipython",
    "version": 3
   },
   "file_extension": ".py",
   "mimetype": "text/x-python",
   "name": "python",
   "nbconvert_exporter": "python",
   "pygments_lexer": "ipython3",
   "version": "3.6.4"
  }
 },
 "nbformat": 4,
 "nbformat_minor": 2
}
